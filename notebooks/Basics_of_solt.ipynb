{
 "cells": [
  {
   "cell_type": "markdown",
   "metadata": {},
   "source": [
    "# Basics of `SOLT`\n",
    "\n",
    "In this short tutorial, you will get to know the core concepts behind the **solt** library and also learn how to implement simple data augmentations by yourself."
   ]
  },
  {
   "cell_type": "code",
   "execution_count": 1,
   "metadata": {},
   "outputs": [],
   "source": [
    "%matplotlib inline\n",
    "import numpy as np\n",
    "import matplotlib.pyplot as plt\n",
    "from matplotlib import patches\n",
    "import cv2\n",
    "import os\n",
    "import glob\n",
    "import json\n",
    "\n",
    "np.random.seed(12345)"
   ]
  },
  {
   "cell_type": "markdown",
   "metadata": {},
   "source": [
    "Solt has several main modules: \n",
    "\n",
    "* `base_transforms` - Superclasses and validity checkers\n",
    "* `core` - Data Streaming classes. The allow to compose transforms into pipelines and serialize them\n",
    "* `data` - Data containers (in `SOLT`, all the data need to be packed into specialized containers or dicts)\n",
    "* `transforms` - Transformations (data augmentations)\n",
    "* `utils` - Tools used in the librrary and also serialiation functionality\n",
    "\n",
    "The naming convention is in the cell below:"
   ]
  },
  {
   "cell_type": "code",
   "execution_count": 2,
   "metadata": {},
   "outputs": [],
   "source": [
    "import solt.base_transforms as slb\n",
    "import solt.transforms as slt\n",
    "import solt.core as slc\n",
    "import solt.data as sld\n",
    "import solt.utils as slu"
   ]
  },
  {
   "cell_type": "markdown",
   "metadata": {},
   "source": [
    "## Wrapping the data into containers\n",
    "\n",
    "While taking a look at the other libraries, we found one particular disadvantage: the transforms do not understand the data and one needs to implement some hacks to deal with it. The best library that has specialized containers for different datatypes is [imgaug](https://github.com/aleju/imgaug), however, it is very slow.\n",
    "\n",
    "In `SOLT`, we created a `DataContainer` that wraps all your data into a single object. Furthermore, the DataContainer enables a possibility to apply the same transformation to multiple images (e.g. to a minibatch if images, an instance segmentation mask, a set of keypoints). What is needed is just the data and the specification whether it is an image (`I`), mask (`M`), keypoints (`P`) or labels (`L`). An example of creating the data container is given in the cell below:"
   ]
  },
  {
   "cell_type": "code",
   "execution_count": 3,
   "metadata": {},
   "outputs": [],
   "source": [
    "# Images must be in OpenCV format\n",
    "test_img_1 = np.zeros((5, 5, 3), dtype=np.uint8)\n",
    "dc = sld.DataContainer(test_img_1, 'I')"
   ]
  },
  {
   "cell_type": "markdown",
   "metadata": {},
   "source": [
    "An alternative way of creating data containers is using a dictionary:"
   ]
  },
  {
   "cell_type": "code",
   "execution_count": 4,
   "metadata": {},
   "outputs": [],
   "source": [
    "dc_from_dict = sld.DataContainer.from_dict({'image': test_img_1})"
   ]
  },
  {
   "cell_type": "code",
   "execution_count": 5,
   "metadata": {},
   "outputs": [],
   "source": [
    "assert dc == dc_from_dict"
   ]
  },
  {
   "cell_type": "markdown",
   "metadata": {},
   "source": [
    "When you have multiple data items, use tuple in `DataContainer` constructor. The number of elements in the tuple and the length of the format string must match:"
   ]
  },
  {
   "cell_type": "code",
   "execution_count": 6,
   "metadata": {},
   "outputs": [],
   "source": [
    "# Images must be in OpenCV format\n",
    "test_img_2 = np.zeros((5, 5, 3), dtype=np.uint8)\n",
    "test_img_3 = np.zeros((5, 5, 3), dtype=np.uint8)\n",
    "dc = sld.DataContainer((test_img_1, test_img_2, test_img_3), 'III')"
   ]
  },
  {
   "cell_type": "markdown",
   "metadata": {},
   "source": [
    "In this case, you can also use `dict` API:"
   ]
  },
  {
   "cell_type": "code",
   "execution_count": 7,
   "metadata": {},
   "outputs": [],
   "source": [
    "dc_from_dict = sld.DataContainer.from_dict({'images': [test_img_1, test_img_2, test_img_3]})"
   ]
  },
  {
   "cell_type": "code",
   "execution_count": 8,
   "metadata": {},
   "outputs": [],
   "source": [
    "assert dc == dc_from_dict"
   ]
  },
  {
   "cell_type": "markdown",
   "metadata": {},
   "source": [
    "## Handling the keypoints\n",
    "\n",
    "We found some difficulties when working with the other libraries that support keypoints (landmarks). One solution was to create a dedicated container for keypoints, which stores the information about the coordinate frame where those keypoints are located:"
   ]
  },
  {
   "cell_type": "code",
   "execution_count": 9,
   "metadata": {},
   "outputs": [],
   "source": [
    "# Creating fake data\n",
    "kpts_data = np.array([[0, 0], [0, 1], [1, 0], [2, 0]]).reshape((4, 2))\n",
    "# Saying the the keypoints need to be within a rectangle HxW, where H=3, W=4 in this case\n",
    "kpts = sld.KeyPoints(kpts_data, 3, 4)\n",
    "# Now we can wrap these keypoints into a Data Container:\n",
    "dc = sld.DataContainer(kpts, 'P')"
   ]
  },
  {
   "cell_type": "markdown",
   "metadata": {},
   "source": [
    "Please, note that there is no keypoint-specific `dict` API yet."
   ]
  },
  {
   "cell_type": "markdown",
   "metadata": {},
   "source": [
    "## Applying `SOLT` transforms\n",
    "\n",
    "In `SOLT`, we implemented a large variety of transformations. We recommend to always use a `Stream` to perform the data augmentations. Let us define a simple stream with only one transform  - `Flip`. This transform will flip the data around the given axis:"
   ]
  },
  {
   "cell_type": "code",
   "execution_count": 10,
   "metadata": {},
   "outputs": [],
   "source": [
    "stream = slc.Stream([\n",
    "    slt.Flip(p=1, axis=1)\n",
    "])"
   ]
  },
  {
   "cell_type": "markdown",
   "metadata": {},
   "source": [
    "### Creating the data"
   ]
  },
  {
   "cell_type": "code",
   "execution_count": 11,
   "metadata": {},
   "outputs": [],
   "source": [
    "# Plese, note that the image must always have a channel dimension\n",
    "test_img_4 = np.array([[0, 0, 1],\n",
    "                       [0, 0, 1],\n",
    "                       [0, 0, 1]]).reshape(3, 3, 1)\n",
    "\n",
    "# Masks, however, should have only two dimensions\n",
    "test_mask_4 = np.array([[1, 0, 0],\n",
    "                        [1, 0, 0],\n",
    "                        [1, 0, 0]])\n",
    "\n",
    "dc = sld.DataContainer((test_img_4, test_mask_4), 'IM')"
   ]
  },
  {
   "cell_type": "markdown",
   "metadata": {},
   "source": [
    "### Using Dict instead of a DataContainer (covers 99% of usecases)"
   ]
  },
  {
   "cell_type": "markdown",
   "metadata": {},
   "source": [
    "By default, SOLT is designed to return `torch` tensors, normalize them, and subtract ImageNet mean. If we want SOLT to return a `slt.DataContainer`, we have to specify `return_torch=False` when calling the transforms:"
   ]
  },
  {
   "cell_type": "code",
   "execution_count": 12,
   "metadata": {},
   "outputs": [],
   "source": [
    "dc_res = stream({'image': test_img_4, 'mask': test_mask_4}, return_torch=False)"
   ]
  },
  {
   "cell_type": "code",
   "execution_count": 13,
   "metadata": {},
   "outputs": [],
   "source": [
    "assert isinstance(dc_res, sld.DataContainer)"
   ]
  },
  {
   "cell_type": "markdown",
   "metadata": {},
   "source": [
    "### Applying the transformations"
   ]
  },
  {
   "cell_type": "markdown",
   "metadata": {},
   "source": [
    "Let's continue using a previously created `sld.DataContainer`"
   ]
  },
  {
   "cell_type": "code",
   "execution_count": 14,
   "metadata": {},
   "outputs": [],
   "source": [
    "dc_res = stream(dc, return_torch=False)"
   ]
  },
  {
   "cell_type": "markdown",
   "metadata": {},
   "source": [
    "We can get access to the data in the container as follows:"
   ]
  },
  {
   "cell_type": "code",
   "execution_count": 15,
   "metadata": {},
   "outputs": [],
   "source": [
    "img_res, mask_res = dc_res.data"
   ]
  },
  {
   "cell_type": "markdown",
   "metadata": {},
   "source": [
    "The format can also be retrieved:"
   ]
  },
  {
   "cell_type": "code",
   "execution_count": 16,
   "metadata": {},
   "outputs": [
    {
     "data": {
      "text/plain": [
       "'IM'"
      ]
     },
     "execution_count": 16,
     "metadata": {},
     "output_type": "execute_result"
    }
   ],
   "source": [
    "dc_res.data_format"
   ]
  },
  {
   "cell_type": "markdown",
   "metadata": {},
   "source": [
    "### Visualizing the results"
   ]
  },
  {
   "cell_type": "code",
   "execution_count": 17,
   "metadata": {},
   "outputs": [
    {
     "data": {
      "image/png": "[encoded data removed]",
      "text/plain": [
       "<Figure size 576x576 with 4 Axes>"
      ]
     },
     "metadata": {},
     "output_type": "display_data"
    }
   ],
   "source": [
    "fig, ax = plt.subplots(2, 2, figsize=(8, 8))\n",
    "ax[0, 0].set_title('Original image')\n",
    "ax[0, 0].imshow(test_img_4.squeeze())\n",
    "\n",
    "ax[0, 1].set_title('Transformed image')\n",
    "ax[0, 1].imshow(img_res.squeeze())\n",
    "\n",
    "ax[1, 0].set_title('Original mask')\n",
    "ax[1, 0].imshow(test_mask_4)\n",
    "\n",
    "ax[1, 1].set_title('Transformed mask')\n",
    "ax[1, 1].imshow(mask_res)\n",
    "plt.show()"
   ]
  },
  {
   "cell_type": "markdown",
   "metadata": {},
   "source": [
    "## Serializing transforms into `dict`, `yaml` or `json`\n",
    "\n",
    "We found serialization of the augmentation pipelines to be an important challenge when running experiements. In `SOLT`, we developed the API that allows you to conveniently serialize the whole transformation stream into `dict`, `yaml` or `json`:"
   ]
  },
  {
   "cell_type": "code",
   "execution_count": 18,
   "metadata": {},
   "outputs": [
    {
     "data": {
      "text/plain": [
       "{'optimize_stack': False,\n",
       " 'interpolation': None,\n",
       " 'padding': None,\n",
       " 'transforms': [{'flip': {'p': 0.5, 'data_indices': None, 'axis': 1}},\n",
       "  {'rotate': {'p': 0.5,\n",
       "    'padding': ('z', 'inherit'),\n",
       "    'interpolation': ('bilinear', 'inherit'),\n",
       "    'ignore_state': True,\n",
       "    'angle_range': (-90, 90)}}]}"
      ]
     },
     "execution_count": 18,
     "metadata": {},
     "output_type": "execute_result"
    }
   ],
   "source": [
    "stream = slc.Stream([\n",
    "    slt.Flip(axis=1),\n",
    "    slt.Rotate(angle_range=(-90, 90)),\n",
    "])\n",
    "stream.to_dict()  # this converts the pipeline into a dict"
   ]
  },
  {
   "cell_type": "code",
   "execution_count": 19,
   "metadata": {},
   "outputs": [
    {
     "name": "stdout",
     "output_type": "stream",
     "text": [
      "{\n",
      "    \"stream\": {\n",
      "        \"optimize_stack\": false,\n",
      "        \"interpolation\": null,\n",
      "        \"padding\": null,\n",
      "        \"transforms\": [\n",
      "            {\n",
      "                \"flip\": {\n",
      "                    \"p\": 0.5,\n",
      "                    \"data_indices\": null,\n",
      "                    \"axis\": 1\n",
      "                }\n",
      "            },\n",
      "            {\n",
      "                \"rotate\": {\n",
      "                    \"p\": 0.5,\n",
      "                    \"padding\": [\n",
      "                        \"z\",\n",
      "                        \"inherit\"\n",
      "                    ],\n",
      "                    \"interpolation\": [\n",
      "                        \"bilinear\",\n",
      "                        \"inherit\"\n",
      "                    ],\n",
      "                    \"ignore_state\": true,\n",
      "                    \"angle_range\": [\n",
      "                        -90,\n",
      "                        90\n",
      "                    ]\n",
      "                }\n",
      "            }\n",
      "        ]\n",
      "    }\n",
      "}\n"
     ]
    }
   ],
   "source": [
    "print(stream.to_json())  # to json"
   ]
  },
  {
   "cell_type": "code",
   "execution_count": 20,
   "metadata": {},
   "outputs": [
    {
     "name": "stdout",
     "output_type": "stream",
     "text": [
      "stream:\n",
      "  interpolation: null\n",
      "  optimize_stack: false\n",
      "  padding: null\n",
      "  transforms:\n",
      "  - flip:\n",
      "      axis: 1\n",
      "      data_indices: null\n",
      "      p: 0.5\n",
      "  - rotate:\n",
      "      angle_range:\n",
      "      - -90\n",
      "      - 90\n",
      "      ignore_state: true\n",
      "      interpolation:\n",
      "      - bilinear\n",
      "      - inherit\n",
      "      p: 0.5\n",
      "      padding:\n",
      "      - z\n",
      "      - inherit\n",
      "\n"
     ]
    }
   ],
   "source": [
    "print(stream.to_yaml())"
   ]
  },
  {
   "cell_type": "markdown",
   "metadata": {},
   "source": [
    "## Extending with own transforms\n",
    "Let's implement a simple transform that randomly zeroes one of the image corners. All transforms must be inherited from `slb.ImageTransform` or `slb.BaseTransform`. In this case, you do not need to worry about how to read and write the data from DataContainer, how to do serialization, etc. To fully understand the implementation details, please, follow the docstrings:"
   ]
  },
  {
   "cell_type": "code",
   "execution_count": 21,
   "metadata": {},
   "outputs": [],
   "source": [
    "class ImageCornerDropTransform(slb.ImageTransform):\n",
    "    \n",
    "    serializable_name = 'corner_drop'\n",
    "    \n",
    "    def __init__(self, corner_size=None, p=None, data_indices=None):\n",
    "        \"\"\"Transform, which simply drops one of the image corners.\n",
    "        \n",
    "        \n",
    "        Here is the order of corners used:\n",
    "        \n",
    "        01\n",
    "        23\n",
    "        \n",
    "        Because this transform is only for images, let's use a parent class `ImageTransform` from\n",
    "        the module `base_transforms`.\n",
    "        \n",
    "        p : None or float\n",
    "            Probability of using this transform.\n",
    "        data_indicies : tuple or None\n",
    "            Indices within a data container where this transform need to be applied. \n",
    "        \"\"\"\n",
    "        super(ImageCornerDropTransform, self).__init__(p=p, data_indices=data_indices)\n",
    "        if corner_size is None:\n",
    "            corner_size = 0\n",
    "        self.corner_size = corner_size\n",
    "        \n",
    "    def sample_transform(self):\n",
    "        \"\"\"This method samples the parameters of the transform.\n",
    "        \n",
    "        Having called this method once we can easily apply the same transformation to \n",
    "        every item within a data container. \n",
    "        \n",
    "        \"\"\"\n",
    "        self.state_dict['corner'] = np.random.randint(0, 4)\n",
    "        \n",
    "    def _apply_img(self, img, item_settings):\n",
    "        \"\"\"Applies a transform to an image.\n",
    "        \n",
    "        Every transform has the following set of methods, which are applied autimatically, depending on the data:\n",
    "        _apply_img\n",
    "        _apply_mask\n",
    "        _apply_labels\n",
    "        _apply_pts\n",
    "        \n",
    "        Because this particular transform is a subclass of ImageTransform, then we just need to define the behavior for images.\n",
    "        \n",
    "        \"\"\"\n",
    "        img = img.copy()\n",
    "        s = self.corner_size\n",
    "        if self.state_dict['corner'] == 0:\n",
    "            img[:s, :s] = 0\n",
    "        elif self.state_dict['corner'] == 1:\n",
    "            img[:s, -s:] = 0\n",
    "        elif self.state_dict['corner'] == 2:\n",
    "            img[-s:, :s] = 0\n",
    "        elif self.state_dict['corner'] == 3:\n",
    "            img[-s:, -s:] = 0\n",
    "            \n",
    "        return img"
   ]
  },
  {
   "cell_type": "markdown",
   "metadata": {},
   "source": [
    "We are not going to write any tests or do parameter checks for the transform here. To learn how this can be done, please, see the source code or the contributing guidelines.\n",
    "\n",
    "Once the transform is implemented, it can be used right away. Let's create some data and apply this transform to it:"
   ]
  },
  {
   "cell_type": "code",
   "execution_count": 22,
   "metadata": {},
   "outputs": [],
   "source": [
    "test_img = np.zeros((10, 10, 1))\n",
    "test_img[:2, :2] = 1\n",
    "test_img[:2, -2:] = 1\n",
    "test_img[-2:, :2] = 1\n",
    "test_img[-2:, -2:] = 1"
   ]
  },
  {
   "cell_type": "code",
   "execution_count": 23,
   "metadata": {},
   "outputs": [
    {
     "data": {
      "image/png": "[encoded data removed]",
      "text/plain": [
       "<Figure size 432x288 with 1 Axes>"
      ]
     },
     "metadata": {},
     "output_type": "display_data"
    }
   ],
   "source": [
    "plt.imshow(test_img.squeeze())\n",
    "plt.show()"
   ]
  },
  {
   "cell_type": "markdown",
   "metadata": {},
   "source": [
    "Applying transform to drop at least 1 corner:"
   ]
  },
  {
   "cell_type": "code",
   "execution_count": 24,
   "metadata": {},
   "outputs": [
    {
     "data": {
      "image/png": "[encoded data removed]",
      "text/plain": [
       "<Figure size 720x720 with 25 Axes>"
      ]
     },
     "metadata": {},
     "output_type": "display_data"
    }
   ],
   "source": [
    "trf = slc.Stream([ImageCornerDropTransform(p=1, corner_size=2)])\n",
    "\n",
    "fig, ax = plt.subplots(5, 5, figsize=(10, 10))\n",
    "for row in range(5):\n",
    "    for col in range(5):\n",
    "        dc_res = trf({'image': test_img}, return_torch=False)\n",
    "        ax[row, col].imshow(dc_res.data[0].squeeze())\n",
    "        ax[row, col].set_xticks([])\n",
    "        ax[row, col].set_yticks([])\n",
    "plt.tight_layout()\n",
    "plt.show()"
   ]
  },
  {
   "cell_type": "markdown",
   "metadata": {},
   "source": [
    "### More details about serialization"
   ]
  },
  {
   "cell_type": "markdown",
   "metadata": {},
   "source": [
    "`SOLT` is using a pattern `registry` for serialization. Whenever a transform is inherited from `slb.BaseTransform` or `slc.Stream`, it gets added to the registry that tracks all the available transformations. It is quite easy to see what is stored in the registry:"
   ]
  },
  {
   "cell_type": "code",
   "execution_count": 25,
   "metadata": {},
   "outputs": [
    {
     "data": {
      "text/plain": [
       "{'stream': solt.core._core.Stream,\n",
       " 'flip': solt.transforms._transforms.Flip,\n",
       " 'rotate': solt.transforms._transforms.Rotate,\n",
       " 'rotate_90': solt.transforms._transforms.Rotate90,\n",
       " 'shear': solt.transforms._transforms.Shear,\n",
       " 'scale': solt.transforms._transforms.Scale,\n",
       " 'translate': solt.transforms._transforms.Translate,\n",
       " 'projection': solt.transforms._transforms.Projection,\n",
       " 'pad': solt.transforms._transforms.Pad,\n",
       " 'resize': solt.transforms._transforms.Resize,\n",
       " 'crop': solt.transforms._transforms.Crop,\n",
       " 'noise': solt.transforms._transforms.Noise,\n",
       " 'cutout': solt.transforms._transforms.CutOut,\n",
       " 'salt_and_pepper': solt.transforms._transforms.SaltAndPepper,\n",
       " 'gamma_correction': solt.transforms._transforms.GammaCorrection,\n",
       " 'contrast': solt.transforms._transforms.Contrast,\n",
       " 'blur': solt.transforms._transforms.Blur,\n",
       " 'hsv': solt.transforms._transforms.HSV,\n",
       " 'brightness': solt.transforms._transforms.Brightness,\n",
       " 'cvt_color': solt.transforms._transforms.CvtColor,\n",
       " 'keypoints_jitter': solt.transforms._transforms.KeypointsJitter,\n",
       " 'jpeg_compression': solt.transforms._transforms.JPEGCompression,\n",
       " 'corner_drop': __main__.ImageCornerDropTransform}"
      ]
     },
     "execution_count": 25,
     "metadata": {},
     "output_type": "execute_result"
    }
   ],
   "source": [
    "slc.Stream.registry"
   ]
  },
  {
   "cell_type": "markdown",
   "metadata": {},
   "source": [
    "It can be seen that `corner_drop` has been added to the registry, which means we can also deserialize it later:"
   ]
  },
  {
   "cell_type": "code",
   "execution_count": 26,
   "metadata": {},
   "outputs": [],
   "source": [
    "yaml_str = \"\"\"\n",
    "stream:\n",
    "    transforms:\n",
    "    - rotate_90:\n",
    "        k: 2\n",
    "    - corner_drop:\n",
    "        corner_size: 2\n",
    "        p: 1\n",
    "\"\"\""
   ]
  },
  {
   "cell_type": "code",
   "execution_count": 27,
   "metadata": {},
   "outputs": [],
   "source": [
    "deserialized = slu.from_yaml(yaml_str)"
   ]
  },
  {
   "cell_type": "markdown",
   "metadata": {},
   "source": [
    "Let's check how the deserialized transform works:"
   ]
  },
  {
   "cell_type": "code",
   "execution_count": 28,
   "metadata": {},
   "outputs": [
    {
     "data": {
      "image/png": "[encoded data removed]",
      "text/plain": [
       "<Figure size 720x720 with 25 Axes>"
      ]
     },
     "metadata": {},
     "output_type": "display_data"
    }
   ],
   "source": [
    "fig, ax = plt.subplots(5, 5, figsize=(10, 10))\n",
    "for row in range(5):\n",
    "    for col in range(5):\n",
    "        dc_res = deserialized({'image': test_img}, return_torch=False)\n",
    "        ax[row, col].imshow(dc_res.data[0].squeeze())\n",
    "        ax[row, col].set_xticks([])\n",
    "        ax[row, col].set_yticks([])\n",
    "plt.tight_layout()\n",
    "plt.show()"
   ]
  },
  {
   "cell_type": "code",
   "execution_count": null,
   "metadata": {},
   "outputs": [],
   "source": []
  }
 ],
 "metadata": {
  "kernelspec": {
   "display_name": "Python 3",
   "language": "python",
   "name": "python3"
  },
  "language_info": {
   "codemirror_mode": {
    "name": "ipython",
    "version": 3
   },
   "file_extension": ".py",
   "mimetype": "text/x-python",
   "name": "python",
   "nbconvert_exporter": "python",
   "pygments_lexer": "ipython3",
   "version": "3.8.1"
  }
 },
 "nbformat": 4,
 "nbformat_minor": 4
}
